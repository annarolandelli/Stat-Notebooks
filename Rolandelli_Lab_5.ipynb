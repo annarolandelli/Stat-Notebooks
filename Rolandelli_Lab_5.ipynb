{
  "nbformat": 4,
  "nbformat_minor": 0,
  "metadata": {
    "colab": {
      "provenance": [],
      "authorship_tag": "ABX9TyOv8C7MJfrui+DRnNdQlcKw",
      "include_colab_link": true
    },
    "kernelspec": {
      "name": "python3",
      "display_name": "Python 3"
    },
    "language_info": {
      "name": "python"
    }
  },
  "cells": [
    {
      "cell_type": "markdown",
      "metadata": {
        "id": "view-in-github",
        "colab_type": "text"
      },
      "source": [
        "<a href=\"https://colab.research.google.com/github/annarolandelli/Stat-Notebooks/blob/main/Rolandelli_Lab_5.ipynb\" target=\"_parent\"><img src=\"https://colab.research.google.com/assets/colab-badge.svg\" alt=\"Open In Colab\"/></a>"
      ]
    },
    {
      "cell_type": "markdown",
      "source": [
        "#Parking Survey"
      ],
      "metadata": {
        "id": "gh8ySXS-u0Cq"
      }
    },
    {
      "cell_type": "markdown",
      "source": [
        "# https://forms.gle/j1esUtoXzXDNHpj67"
      ],
      "metadata": {
        "id": "Nab923nDu5kQ"
      }
    },
    {
      "cell_type": "code",
      "source": [
        "url_parking_spots = 'https://docs.google.com/spreadsheets/d/1LHs1itIeYs323AGyuIDXg4BbbyJLDB-eD8uwaJhjdcI/edit?usp=sharing'"
      ],
      "metadata": {
        "id": "TY8L5me3u8Pm"
      },
      "execution_count": null,
      "outputs": []
    },
    {
      "cell_type": "code",
      "source": [
        "import pandas as pd\n",
        "import numpy as np\n",
        "import matplotlib.pyplot as plt\n",
        "def get_database(url):\n",
        "    url_head = \"https://docs.google.com/spreadsheets/d/\"\n",
        "    url_foot = \"/gviz/tq?tqx=out:csv&sheet=\"\n",
        "    url_body = url.split('/')[5]\n",
        "    sheet_name = \"1\"\n",
        "    url_csv = url_head + url_body + url_foot + sheet_name\n",
        "    df = pd.read_csv(url_csv, sep=',', skiprows=0)\n",
        "    return df"
      ],
      "metadata": {
        "id": "p3dz1MlDvRxl"
      },
      "execution_count": 1,
      "outputs": []
    },
    {
      "cell_type": "code",
      "source": [
        "url = 'https://docs.google.com/spreadsheets/d/1LHs1itIeYs323AGyuIDXg4BbbyJLDB-eD8uwaJhjdcI/edit?usp=sharing'"
      ],
      "metadata": {
        "id": "HtcLxjQtZ8CV"
      },
      "execution_count": 2,
      "outputs": []
    },
    {
      "cell_type": "code",
      "source": [
        "data = get_database(url)"
      ],
      "metadata": {
        "id": "3LyDPmd5aYEA"
      },
      "execution_count": 3,
      "outputs": []
    },
    {
      "cell_type": "code",
      "source": [
        "data"
      ],
      "metadata": {
        "colab": {
          "base_uri": "https://localhost:8080/",
          "height": 833
        },
        "id": "OWs-5rWFafNx",
        "outputId": "ce5c1877-9de0-41d8-c396-7394dab18047"
      },
      "execution_count": 4,
      "outputs": [
        {
          "output_type": "execute_result",
          "data": {
            "text/plain": [
              "              Timestamp Do you have a car on campus?  \\\n",
              "0   10/10/2022 12:36:23                          Yes   \n",
              "1   10/10/2022 12:37:12                          Yes   \n",
              "2   10/10/2022 12:37:19                          Yes   \n",
              "3   10/10/2022 12:37:21                          Yes   \n",
              "4   10/10/2022 12:37:54                          Yes   \n",
              "5   10/10/2022 12:37:57                          Yes   \n",
              "6   10/10/2022 12:38:20                          Yes   \n",
              "7   10/10/2022 12:38:23                          Yes   \n",
              "8   10/10/2022 12:38:32                          Yes   \n",
              "9   10/10/2022 12:39:29                          Yes   \n",
              "10  10/10/2022 12:42:20                          Yes   \n",
              "11  10/10/2022 12:44:19                          Yes   \n",
              "12  10/10/2022 12:47:32                          Yes   \n",
              "13  10/10/2022 13:35:47                          Yes   \n",
              "\n",
              "   Do you have trouble finding parking on campus?  \\\n",
              "0                                             Yes   \n",
              "1                                             Yes   \n",
              "2                                             Yes   \n",
              "3                                             Yes   \n",
              "4                                             Yes   \n",
              "5                                             Yes   \n",
              "6                                             Yes   \n",
              "7                                             Yes   \n",
              "8                                             Yes   \n",
              "9                                             Yes   \n",
              "10                                            Yes   \n",
              "11                                            Yes   \n",
              "12                                            Yes   \n",
              "13                                            Yes   \n",
              "\n",
              "   Would an iOS app that shows where empty spots are on campus be beneficial to you?  \\\n",
              "0                                                 Yes                                  \n",
              "1                                                 Yes                                  \n",
              "2                                                 Yes                                  \n",
              "3                                                 Yes                                  \n",
              "4                                                 Yes                                  \n",
              "5                                                 Yes                                  \n",
              "6                                                 Yes                                  \n",
              "7                                                 Yes                                  \n",
              "8                                                 Yes                                  \n",
              "9                                                 Yes                                  \n",
              "10                                                Yes                                  \n",
              "11                                                Yes                                  \n",
              "12                                                Yes                                  \n",
              "13                                                Yes                                  \n",
              "\n",
              "   Do you skip class due to not being able to find a parking spot?  \\\n",
              "0                                                 Yes                \n",
              "1                                                 Yes                \n",
              "2                                                 Yes                \n",
              "3                                                 Yes                \n",
              "4                                                 Yes                \n",
              "5                                                 Yes                \n",
              "6                                                 Yes                \n",
              "7                                                 Yes                \n",
              "8                                                 Yes                \n",
              "9                                                 Yes                \n",
              "10                                                 No                \n",
              "11                                                 No                \n",
              "12                                                 No                \n",
              "13                                                Yes                \n",
              "\n",
              "   How much money per year in the App Store would you be willing to spend on an app indicating open parking spots?  \n",
              "0                                               $1.99                                                               \n",
              "1                                               $5.99                                                               \n",
              "2                                               $6.99                                                               \n",
              "3                                               $0.99                                                               \n",
              "4                                               $9.99                                                               \n",
              "5                                                 NaN                                                               \n",
              "6                                               $0.99                                                               \n",
              "7                                               $0.99                                                               \n",
              "8                                                 NaN                                                               \n",
              "9                                                 NaN                                                               \n",
              "10                                              $0.99                                                               \n",
              "11                                              $0.99                                                               \n",
              "12                                                NaN                                                               \n",
              "13                                              $5.99                                                               "
            ],
            "text/html": [
              "\n",
              "  <div id=\"df-a95d5453-5b99-4547-bd06-d5d611feead3\">\n",
              "    <div class=\"colab-df-container\">\n",
              "      <div>\n",
              "<style scoped>\n",
              "    .dataframe tbody tr th:only-of-type {\n",
              "        vertical-align: middle;\n",
              "    }\n",
              "\n",
              "    .dataframe tbody tr th {\n",
              "        vertical-align: top;\n",
              "    }\n",
              "\n",
              "    .dataframe thead th {\n",
              "        text-align: right;\n",
              "    }\n",
              "</style>\n",
              "<table border=\"1\" class=\"dataframe\">\n",
              "  <thead>\n",
              "    <tr style=\"text-align: right;\">\n",
              "      <th></th>\n",
              "      <th>Timestamp</th>\n",
              "      <th>Do you have a car on campus?</th>\n",
              "      <th>Do you have trouble finding parking on campus?</th>\n",
              "      <th>Would an iOS app that shows where empty spots are on campus be beneficial to you?</th>\n",
              "      <th>Do you skip class due to not being able to find a parking spot?</th>\n",
              "      <th>How much money per year in the App Store would you be willing to spend on an app indicating open parking spots?</th>\n",
              "    </tr>\n",
              "  </thead>\n",
              "  <tbody>\n",
              "    <tr>\n",
              "      <th>0</th>\n",
              "      <td>10/10/2022 12:36:23</td>\n",
              "      <td>Yes</td>\n",
              "      <td>Yes</td>\n",
              "      <td>Yes</td>\n",
              "      <td>Yes</td>\n",
              "      <td>$1.99</td>\n",
              "    </tr>\n",
              "    <tr>\n",
              "      <th>1</th>\n",
              "      <td>10/10/2022 12:37:12</td>\n",
              "      <td>Yes</td>\n",
              "      <td>Yes</td>\n",
              "      <td>Yes</td>\n",
              "      <td>Yes</td>\n",
              "      <td>$5.99</td>\n",
              "    </tr>\n",
              "    <tr>\n",
              "      <th>2</th>\n",
              "      <td>10/10/2022 12:37:19</td>\n",
              "      <td>Yes</td>\n",
              "      <td>Yes</td>\n",
              "      <td>Yes</td>\n",
              "      <td>Yes</td>\n",
              "      <td>$6.99</td>\n",
              "    </tr>\n",
              "    <tr>\n",
              "      <th>3</th>\n",
              "      <td>10/10/2022 12:37:21</td>\n",
              "      <td>Yes</td>\n",
              "      <td>Yes</td>\n",
              "      <td>Yes</td>\n",
              "      <td>Yes</td>\n",
              "      <td>$0.99</td>\n",
              "    </tr>\n",
              "    <tr>\n",
              "      <th>4</th>\n",
              "      <td>10/10/2022 12:37:54</td>\n",
              "      <td>Yes</td>\n",
              "      <td>Yes</td>\n",
              "      <td>Yes</td>\n",
              "      <td>Yes</td>\n",
              "      <td>$9.99</td>\n",
              "    </tr>\n",
              "    <tr>\n",
              "      <th>5</th>\n",
              "      <td>10/10/2022 12:37:57</td>\n",
              "      <td>Yes</td>\n",
              "      <td>Yes</td>\n",
              "      <td>Yes</td>\n",
              "      <td>Yes</td>\n",
              "      <td>NaN</td>\n",
              "    </tr>\n",
              "    <tr>\n",
              "      <th>6</th>\n",
              "      <td>10/10/2022 12:38:20</td>\n",
              "      <td>Yes</td>\n",
              "      <td>Yes</td>\n",
              "      <td>Yes</td>\n",
              "      <td>Yes</td>\n",
              "      <td>$0.99</td>\n",
              "    </tr>\n",
              "    <tr>\n",
              "      <th>7</th>\n",
              "      <td>10/10/2022 12:38:23</td>\n",
              "      <td>Yes</td>\n",
              "      <td>Yes</td>\n",
              "      <td>Yes</td>\n",
              "      <td>Yes</td>\n",
              "      <td>$0.99</td>\n",
              "    </tr>\n",
              "    <tr>\n",
              "      <th>8</th>\n",
              "      <td>10/10/2022 12:38:32</td>\n",
              "      <td>Yes</td>\n",
              "      <td>Yes</td>\n",
              "      <td>Yes</td>\n",
              "      <td>Yes</td>\n",
              "      <td>NaN</td>\n",
              "    </tr>\n",
              "    <tr>\n",
              "      <th>9</th>\n",
              "      <td>10/10/2022 12:39:29</td>\n",
              "      <td>Yes</td>\n",
              "      <td>Yes</td>\n",
              "      <td>Yes</td>\n",
              "      <td>Yes</td>\n",
              "      <td>NaN</td>\n",
              "    </tr>\n",
              "    <tr>\n",
              "      <th>10</th>\n",
              "      <td>10/10/2022 12:42:20</td>\n",
              "      <td>Yes</td>\n",
              "      <td>Yes</td>\n",
              "      <td>Yes</td>\n",
              "      <td>No</td>\n",
              "      <td>$0.99</td>\n",
              "    </tr>\n",
              "    <tr>\n",
              "      <th>11</th>\n",
              "      <td>10/10/2022 12:44:19</td>\n",
              "      <td>Yes</td>\n",
              "      <td>Yes</td>\n",
              "      <td>Yes</td>\n",
              "      <td>No</td>\n",
              "      <td>$0.99</td>\n",
              "    </tr>\n",
              "    <tr>\n",
              "      <th>12</th>\n",
              "      <td>10/10/2022 12:47:32</td>\n",
              "      <td>Yes</td>\n",
              "      <td>Yes</td>\n",
              "      <td>Yes</td>\n",
              "      <td>No</td>\n",
              "      <td>NaN</td>\n",
              "    </tr>\n",
              "    <tr>\n",
              "      <th>13</th>\n",
              "      <td>10/10/2022 13:35:47</td>\n",
              "      <td>Yes</td>\n",
              "      <td>Yes</td>\n",
              "      <td>Yes</td>\n",
              "      <td>Yes</td>\n",
              "      <td>$5.99</td>\n",
              "    </tr>\n",
              "  </tbody>\n",
              "</table>\n",
              "</div>\n",
              "      <button class=\"colab-df-convert\" onclick=\"convertToInteractive('df-a95d5453-5b99-4547-bd06-d5d611feead3')\"\n",
              "              title=\"Convert this dataframe to an interactive table.\"\n",
              "              style=\"display:none;\">\n",
              "        \n",
              "  <svg xmlns=\"http://www.w3.org/2000/svg\" height=\"24px\"viewBox=\"0 0 24 24\"\n",
              "       width=\"24px\">\n",
              "    <path d=\"M0 0h24v24H0V0z\" fill=\"none\"/>\n",
              "    <path d=\"M18.56 5.44l.94 2.06.94-2.06 2.06-.94-2.06-.94-.94-2.06-.94 2.06-2.06.94zm-11 1L8.5 8.5l.94-2.06 2.06-.94-2.06-.94L8.5 2.5l-.94 2.06-2.06.94zm10 10l.94 2.06.94-2.06 2.06-.94-2.06-.94-.94-2.06-.94 2.06-2.06.94z\"/><path d=\"M17.41 7.96l-1.37-1.37c-.4-.4-.92-.59-1.43-.59-.52 0-1.04.2-1.43.59L10.3 9.45l-7.72 7.72c-.78.78-.78 2.05 0 2.83L4 21.41c.39.39.9.59 1.41.59.51 0 1.02-.2 1.41-.59l7.78-7.78 2.81-2.81c.8-.78.8-2.07 0-2.86zM5.41 20L4 18.59l7.72-7.72 1.47 1.35L5.41 20z\"/>\n",
              "  </svg>\n",
              "      </button>\n",
              "      \n",
              "  <style>\n",
              "    .colab-df-container {\n",
              "      display:flex;\n",
              "      flex-wrap:wrap;\n",
              "      gap: 12px;\n",
              "    }\n",
              "\n",
              "    .colab-df-convert {\n",
              "      background-color: #E8F0FE;\n",
              "      border: none;\n",
              "      border-radius: 50%;\n",
              "      cursor: pointer;\n",
              "      display: none;\n",
              "      fill: #1967D2;\n",
              "      height: 32px;\n",
              "      padding: 0 0 0 0;\n",
              "      width: 32px;\n",
              "    }\n",
              "\n",
              "    .colab-df-convert:hover {\n",
              "      background-color: #E2EBFA;\n",
              "      box-shadow: 0px 1px 2px rgba(60, 64, 67, 0.3), 0px 1px 3px 1px rgba(60, 64, 67, 0.15);\n",
              "      fill: #174EA6;\n",
              "    }\n",
              "\n",
              "    [theme=dark] .colab-df-convert {\n",
              "      background-color: #3B4455;\n",
              "      fill: #D2E3FC;\n",
              "    }\n",
              "\n",
              "    [theme=dark] .colab-df-convert:hover {\n",
              "      background-color: #434B5C;\n",
              "      box-shadow: 0px 1px 3px 1px rgba(0, 0, 0, 0.15);\n",
              "      filter: drop-shadow(0px 1px 2px rgba(0, 0, 0, 0.3));\n",
              "      fill: #FFFFFF;\n",
              "    }\n",
              "  </style>\n",
              "\n",
              "      <script>\n",
              "        const buttonEl =\n",
              "          document.querySelector('#df-a95d5453-5b99-4547-bd06-d5d611feead3 button.colab-df-convert');\n",
              "        buttonEl.style.display =\n",
              "          google.colab.kernel.accessAllowed ? 'block' : 'none';\n",
              "\n",
              "        async function convertToInteractive(key) {\n",
              "          const element = document.querySelector('#df-a95d5453-5b99-4547-bd06-d5d611feead3');\n",
              "          const dataTable =\n",
              "            await google.colab.kernel.invokeFunction('convertToInteractive',\n",
              "                                                     [key], {});\n",
              "          if (!dataTable) return;\n",
              "\n",
              "          const docLinkHtml = 'Like what you see? Visit the ' +\n",
              "            '<a target=\"_blank\" href=https://colab.research.google.com/notebooks/data_table.ipynb>data table notebook</a>'\n",
              "            + ' to learn more about interactive tables.';\n",
              "          element.innerHTML = '';\n",
              "          dataTable['output_type'] = 'display_data';\n",
              "          await google.colab.output.renderOutput(dataTable, element);\n",
              "          const docLink = document.createElement('div');\n",
              "          docLink.innerHTML = docLinkHtml;\n",
              "          element.appendChild(docLink);\n",
              "        }\n",
              "      </script>\n",
              "    </div>\n",
              "  </div>\n",
              "  "
            ]
          },
          "metadata": {},
          "execution_count": 4
        }
      ]
    },
    {
      "cell_type": "code",
      "source": [
        "data = np.array(data)"
      ],
      "metadata": {
        "id": "JzrfbfETagF7"
      },
      "execution_count": 5,
      "outputs": []
    },
    {
      "cell_type": "code",
      "source": [
        "data"
      ],
      "metadata": {
        "colab": {
          "base_uri": "https://localhost:8080/"
        },
        "id": "hD-D7PuvajIv",
        "outputId": "8aa8a7ed-68d6-4599-a404-e37dd5ff3cd0"
      },
      "execution_count": 6,
      "outputs": [
        {
          "output_type": "execute_result",
          "data": {
            "text/plain": [
              "array([['10/10/2022 12:36:23', 'Yes', 'Yes', 'Yes', 'Yes', '$1.99'],\n",
              "       ['10/10/2022 12:37:12', 'Yes', 'Yes', 'Yes', 'Yes', '$5.99'],\n",
              "       ['10/10/2022 12:37:19', 'Yes', 'Yes', 'Yes', 'Yes', '$6.99'],\n",
              "       ['10/10/2022 12:37:21', 'Yes', 'Yes', 'Yes', 'Yes', '$0.99'],\n",
              "       ['10/10/2022 12:37:54', 'Yes', 'Yes', 'Yes', 'Yes', '$9.99'],\n",
              "       ['10/10/2022 12:37:57', 'Yes', 'Yes', 'Yes', 'Yes', nan],\n",
              "       ['10/10/2022 12:38:20', 'Yes', 'Yes', 'Yes', 'Yes', '$0.99'],\n",
              "       ['10/10/2022 12:38:23', 'Yes', 'Yes', 'Yes', 'Yes', '$0.99'],\n",
              "       ['10/10/2022 12:38:32', 'Yes', 'Yes', 'Yes', 'Yes', nan],\n",
              "       ['10/10/2022 12:39:29', 'Yes', 'Yes', 'Yes', 'Yes', nan],\n",
              "       ['10/10/2022 12:42:20', 'Yes', 'Yes', 'Yes', 'No', '$0.99'],\n",
              "       ['10/10/2022 12:44:19', 'Yes', 'Yes', 'Yes', 'No', '$0.99'],\n",
              "       ['10/10/2022 12:47:32', 'Yes', 'Yes', 'Yes', 'No', nan],\n",
              "       ['10/10/2022 13:35:47', 'Yes', 'Yes', 'Yes', 'Yes', '$5.99']],\n",
              "      dtype=object)"
            ]
          },
          "metadata": {},
          "execution_count": 6
        }
      ]
    },
    {
      "cell_type": "code",
      "source": [
        "data.shape"
      ],
      "metadata": {
        "colab": {
          "base_uri": "https://localhost:8080/"
        },
        "id": "tQgY5nNjaj5A",
        "outputId": "629b0ef1-eb87-429f-cb89-f93f537608f7"
      },
      "execution_count": 7,
      "outputs": [
        {
          "output_type": "execute_result",
          "data": {
            "text/plain": [
              "(14, 6)"
            ]
          },
          "metadata": {},
          "execution_count": 7
        }
      ]
    },
    {
      "cell_type": "code",
      "source": [
        "colors = data[:,1]"
      ],
      "metadata": {
        "id": "mBzvTWVialVI"
      },
      "execution_count": 8,
      "outputs": []
    },
    {
      "cell_type": "code",
      "source": [
        "colors"
      ],
      "metadata": {
        "colab": {
          "base_uri": "https://localhost:8080/"
        },
        "id": "nydh1LWmanCi",
        "outputId": "b2a3fd4d-557a-4a39-85b3-37de8506958c"
      },
      "execution_count": 9,
      "outputs": [
        {
          "output_type": "execute_result",
          "data": {
            "text/plain": [
              "array(['Yes', 'Yes', 'Yes', 'Yes', 'Yes', 'Yes', 'Yes', 'Yes', 'Yes',\n",
              "       'Yes', 'Yes', 'Yes', 'Yes', 'Yes'], dtype=object)"
            ]
          },
          "metadata": {},
          "execution_count": 9
        }
      ]
    },
    {
      "cell_type": "code",
      "source": [
        "colors == 'Red'"
      ],
      "metadata": {
        "colab": {
          "base_uri": "https://localhost:8080/"
        },
        "id": "kYXeaOvTanvF",
        "outputId": "b890afe5-346b-4eed-aa2e-5ba5060ce154"
      },
      "execution_count": 10,
      "outputs": [
        {
          "output_type": "execute_result",
          "data": {
            "text/plain": [
              "array([False, False, False, False, False, False, False, False, False,\n",
              "       False, False, False, False, False])"
            ]
          },
          "metadata": {},
          "execution_count": 10
        }
      ]
    },
    {
      "cell_type": "code",
      "source": [
        "red_count = np.sum(colors == 'Red')"
      ],
      "metadata": {
        "id": "VyBsVcQwapre"
      },
      "execution_count": 11,
      "outputs": []
    },
    {
      "cell_type": "code",
      "source": [
        "blue_count = np.sum(colors == 'Red')"
      ],
      "metadata": {
        "id": "tD5r0drcarSQ"
      },
      "execution_count": 12,
      "outputs": []
    },
    {
      "cell_type": "code",
      "source": [
        "names = ['Red', 'Blue']\n",
        "values = [red_count, blue_count]\n",
        "\n",
        "plt.bar(names, values, color=['red', 'blue'])"
      ],
      "metadata": {
        "colab": {
          "base_uri": "https://localhost:8080/",
          "height": 282
        },
        "id": "D9ryR0_Naskw",
        "outputId": "35a421ba-f5e0-4741-a04e-5610d5dae774"
      },
      "execution_count": 13,
      "outputs": [
        {
          "output_type": "execute_result",
          "data": {
            "text/plain": [
              "<BarContainer object of 2 artists>"
            ]
          },
          "metadata": {},
          "execution_count": 13
        },
        {
          "output_type": "display_data",
          "data": {
            "text/plain": [
              "<Figure size 432x288 with 1 Axes>"
            ],
            "image/png": "[encoded data removed]"
          },
          "metadata": {
            "needs_background": "light"
          }
        }
      ]
    },
    {
      "cell_type": "markdown",
      "source": [
        "https://forms.gle/HbcHnrF1Jp4j7f9J6"
      ],
      "metadata": {
        "id": "jRUbRisFbNCO"
      }
    },
    {
      "cell_type": "code",
      "source": [
        "url = 'https://docs.google.com/spreadsheets/d/1LHs1itIeYs323AGyuIDXg4BbbyJLDB-eD8uwaJhjdcI/edit?usp=sharing'"
      ],
      "metadata": {
        "id": "xORwrwjsbJrr"
      },
      "execution_count": 15,
      "outputs": []
    },
    {
      "cell_type": "code",
      "source": [
        "data = get_database(url)"
      ],
      "metadata": {
        "id": "FpBzazFFbeY3"
      },
      "execution_count": 16,
      "outputs": []
    },
    {
      "cell_type": "code",
      "source": [
        "data"
      ],
      "metadata": {
        "colab": {
          "base_uri": "https://localhost:8080/",
          "height": 833
        },
        "id": "XZEv5alHbgX3",
        "outputId": "90209a3c-54d6-4325-c667-2c92377ddfd9"
      },
      "execution_count": 17,
      "outputs": [
        {
          "output_type": "execute_result",
          "data": {
            "text/plain": [
              "              Timestamp Do you have a car on campus?  \\\n",
              "0   10/10/2022 12:36:23                          Yes   \n",
              "1   10/10/2022 12:37:12                          Yes   \n",
              "2   10/10/2022 12:37:19                          Yes   \n",
              "3   10/10/2022 12:37:21                          Yes   \n",
              "4   10/10/2022 12:37:54                          Yes   \n",
              "5   10/10/2022 12:37:57                          Yes   \n",
              "6   10/10/2022 12:38:20                          Yes   \n",
              "7   10/10/2022 12:38:23                          Yes   \n",
              "8   10/10/2022 12:38:32                          Yes   \n",
              "9   10/10/2022 12:39:29                          Yes   \n",
              "10  10/10/2022 12:42:20                          Yes   \n",
              "11  10/10/2022 12:44:19                          Yes   \n",
              "12  10/10/2022 12:47:32                          Yes   \n",
              "13  10/10/2022 13:35:47                          Yes   \n",
              "\n",
              "   Do you have trouble finding parking on campus?  \\\n",
              "0                                             Yes   \n",
              "1                                             Yes   \n",
              "2                                             Yes   \n",
              "3                                             Yes   \n",
              "4                                             Yes   \n",
              "5                                             Yes   \n",
              "6                                             Yes   \n",
              "7                                             Yes   \n",
              "8                                             Yes   \n",
              "9                                             Yes   \n",
              "10                                            Yes   \n",
              "11                                            Yes   \n",
              "12                                            Yes   \n",
              "13                                            Yes   \n",
              "\n",
              "   Would an iOS app that shows where empty spots are on campus be beneficial to you?  \\\n",
              "0                                                 Yes                                  \n",
              "1                                                 Yes                                  \n",
              "2                                                 Yes                                  \n",
              "3                                                 Yes                                  \n",
              "4                                                 Yes                                  \n",
              "5                                                 Yes                                  \n",
              "6                                                 Yes                                  \n",
              "7                                                 Yes                                  \n",
              "8                                                 Yes                                  \n",
              "9                                                 Yes                                  \n",
              "10                                                Yes                                  \n",
              "11                                                Yes                                  \n",
              "12                                                Yes                                  \n",
              "13                                                Yes                                  \n",
              "\n",
              "   Do you skip class due to not being able to find a parking spot?  \\\n",
              "0                                                 Yes                \n",
              "1                                                 Yes                \n",
              "2                                                 Yes                \n",
              "3                                                 Yes                \n",
              "4                                                 Yes                \n",
              "5                                                 Yes                \n",
              "6                                                 Yes                \n",
              "7                                                 Yes                \n",
              "8                                                 Yes                \n",
              "9                                                 Yes                \n",
              "10                                                 No                \n",
              "11                                                 No                \n",
              "12                                                 No                \n",
              "13                                                Yes                \n",
              "\n",
              "   How much money per year in the App Store would you be willing to spend on an app indicating open parking spots?  \n",
              "0                                               $1.99                                                               \n",
              "1                                               $5.99                                                               \n",
              "2                                               $6.99                                                               \n",
              "3                                               $0.99                                                               \n",
              "4                                               $9.99                                                               \n",
              "5                                                 NaN                                                               \n",
              "6                                               $0.99                                                               \n",
              "7                                               $0.99                                                               \n",
              "8                                                 NaN                                                               \n",
              "9                                                 NaN                                                               \n",
              "10                                              $0.99                                                               \n",
              "11                                              $0.99                                                               \n",
              "12                                                NaN                                                               \n",
              "13                                              $5.99                                                               "
            ],
            "text/html": [
              "\n",
              "  <div id=\"df-9f8016b4-2c3d-4cd4-895c-5118bf29f9cf\">\n",
              "    <div class=\"colab-df-container\">\n",
              "      <div>\n",
              "<style scoped>\n",
              "    .dataframe tbody tr th:only-of-type {\n",
              "        vertical-align: middle;\n",
              "    }\n",
              "\n",
              "    .dataframe tbody tr th {\n",
              "        vertical-align: top;\n",
              "    }\n",
              "\n",
              "    .dataframe thead th {\n",
              "        text-align: right;\n",
              "    }\n",
              "</style>\n",
              "<table border=\"1\" class=\"dataframe\">\n",
              "  <thead>\n",
              "    <tr style=\"text-align: right;\">\n",
              "      <th></th>\n",
              "      <th>Timestamp</th>\n",
              "      <th>Do you have a car on campus?</th>\n",
              "      <th>Do you have trouble finding parking on campus?</th>\n",
              "      <th>Would an iOS app that shows where empty spots are on campus be beneficial to you?</th>\n",
              "      <th>Do you skip class due to not being able to find a parking spot?</th>\n",
              "      <th>How much money per year in the App Store would you be willing to spend on an app indicating open parking spots?</th>\n",
              "    </tr>\n",
              "  </thead>\n",
              "  <tbody>\n",
              "    <tr>\n",
              "      <th>0</th>\n",
              "      <td>10/10/2022 12:36:23</td>\n",
              "      <td>Yes</td>\n",
              "      <td>Yes</td>\n",
              "      <td>Yes</td>\n",
              "      <td>Yes</td>\n",
              "      <td>$1.99</td>\n",
              "    </tr>\n",
              "    <tr>\n",
              "      <th>1</th>\n",
              "      <td>10/10/2022 12:37:12</td>\n",
              "      <td>Yes</td>\n",
              "      <td>Yes</td>\n",
              "      <td>Yes</td>\n",
              "      <td>Yes</td>\n",
              "      <td>$5.99</td>\n",
              "    </tr>\n",
              "    <tr>\n",
              "      <th>2</th>\n",
              "      <td>10/10/2022 12:37:19</td>\n",
              "      <td>Yes</td>\n",
              "      <td>Yes</td>\n",
              "      <td>Yes</td>\n",
              "      <td>Yes</td>\n",
              "      <td>$6.99</td>\n",
              "    </tr>\n",
              "    <tr>\n",
              "      <th>3</th>\n",
              "      <td>10/10/2022 12:37:21</td>\n",
              "      <td>Yes</td>\n",
              "      <td>Yes</td>\n",
              "      <td>Yes</td>\n",
              "      <td>Yes</td>\n",
              "      <td>$0.99</td>\n",
              "    </tr>\n",
              "    <tr>\n",
              "      <th>4</th>\n",
              "      <td>10/10/2022 12:37:54</td>\n",
              "      <td>Yes</td>\n",
              "      <td>Yes</td>\n",
              "      <td>Yes</td>\n",
              "      <td>Yes</td>\n",
              "      <td>$9.99</td>\n",
              "    </tr>\n",
              "    <tr>\n",
              "      <th>5</th>\n",
              "      <td>10/10/2022 12:37:57</td>\n",
              "      <td>Yes</td>\n",
              "      <td>Yes</td>\n",
              "      <td>Yes</td>\n",
              "      <td>Yes</td>\n",
              "      <td>NaN</td>\n",
              "    </tr>\n",
              "    <tr>\n",
              "      <th>6</th>\n",
              "      <td>10/10/2022 12:38:20</td>\n",
              "      <td>Yes</td>\n",
              "      <td>Yes</td>\n",
              "      <td>Yes</td>\n",
              "      <td>Yes</td>\n",
              "      <td>$0.99</td>\n",
              "    </tr>\n",
              "    <tr>\n",
              "      <th>7</th>\n",
              "      <td>10/10/2022 12:38:23</td>\n",
              "      <td>Yes</td>\n",
              "      <td>Yes</td>\n",
              "      <td>Yes</td>\n",
              "      <td>Yes</td>\n",
              "      <td>$0.99</td>\n",
              "    </tr>\n",
              "    <tr>\n",
              "      <th>8</th>\n",
              "      <td>10/10/2022 12:38:32</td>\n",
              "      <td>Yes</td>\n",
              "      <td>Yes</td>\n",
              "      <td>Yes</td>\n",
              "      <td>Yes</td>\n",
              "      <td>NaN</td>\n",
              "    </tr>\n",
              "    <tr>\n",
              "      <th>9</th>\n",
              "      <td>10/10/2022 12:39:29</td>\n",
              "      <td>Yes</td>\n",
              "      <td>Yes</td>\n",
              "      <td>Yes</td>\n",
              "      <td>Yes</td>\n",
              "      <td>NaN</td>\n",
              "    </tr>\n",
              "    <tr>\n",
              "      <th>10</th>\n",
              "      <td>10/10/2022 12:42:20</td>\n",
              "      <td>Yes</td>\n",
              "      <td>Yes</td>\n",
              "      <td>Yes</td>\n",
              "      <td>No</td>\n",
              "      <td>$0.99</td>\n",
              "    </tr>\n",
              "    <tr>\n",
              "      <th>11</th>\n",
              "      <td>10/10/2022 12:44:19</td>\n",
              "      <td>Yes</td>\n",
              "      <td>Yes</td>\n",
              "      <td>Yes</td>\n",
              "      <td>No</td>\n",
              "      <td>$0.99</td>\n",
              "    </tr>\n",
              "    <tr>\n",
              "      <th>12</th>\n",
              "      <td>10/10/2022 12:47:32</td>\n",
              "      <td>Yes</td>\n",
              "      <td>Yes</td>\n",
              "      <td>Yes</td>\n",
              "      <td>No</td>\n",
              "      <td>NaN</td>\n",
              "    </tr>\n",
              "    <tr>\n",
              "      <th>13</th>\n",
              "      <td>10/10/2022 13:35:47</td>\n",
              "      <td>Yes</td>\n",
              "      <td>Yes</td>\n",
              "      <td>Yes</td>\n",
              "      <td>Yes</td>\n",
              "      <td>$5.99</td>\n",
              "    </tr>\n",
              "  </tbody>\n",
              "</table>\n",
              "</div>\n",
              "      <button class=\"colab-df-convert\" onclick=\"convertToInteractive('df-9f8016b4-2c3d-4cd4-895c-5118bf29f9cf')\"\n",
              "              title=\"Convert this dataframe to an interactive table.\"\n",
              "              style=\"display:none;\">\n",
              "        \n",
              "  <svg xmlns=\"http://www.w3.org/2000/svg\" height=\"24px\"viewBox=\"0 0 24 24\"\n",
              "       width=\"24px\">\n",
              "    <path d=\"M0 0h24v24H0V0z\" fill=\"none\"/>\n",
              "    <path d=\"M18.56 5.44l.94 2.06.94-2.06 2.06-.94-2.06-.94-.94-2.06-.94 2.06-2.06.94zm-11 1L8.5 8.5l.94-2.06 2.06-.94-2.06-.94L8.5 2.5l-.94 2.06-2.06.94zm10 10l.94 2.06.94-2.06 2.06-.94-2.06-.94-.94-2.06-.94 2.06-2.06.94z\"/><path d=\"M17.41 7.96l-1.37-1.37c-.4-.4-.92-.59-1.43-.59-.52 0-1.04.2-1.43.59L10.3 9.45l-7.72 7.72c-.78.78-.78 2.05 0 2.83L4 21.41c.39.39.9.59 1.41.59.51 0 1.02-.2 1.41-.59l7.78-7.78 2.81-2.81c.8-.78.8-2.07 0-2.86zM5.41 20L4 18.59l7.72-7.72 1.47 1.35L5.41 20z\"/>\n",
              "  </svg>\n",
              "      </button>\n",
              "      \n",
              "  <style>\n",
              "    .colab-df-container {\n",
              "      display:flex;\n",
              "      flex-wrap:wrap;\n",
              "      gap: 12px;\n",
              "    }\n",
              "\n",
              "    .colab-df-convert {\n",
              "      background-color: #E8F0FE;\n",
              "      border: none;\n",
              "      border-radius: 50%;\n",
              "      cursor: pointer;\n",
              "      display: none;\n",
              "      fill: #1967D2;\n",
              "      height: 32px;\n",
              "      padding: 0 0 0 0;\n",
              "      width: 32px;\n",
              "    }\n",
              "\n",
              "    .colab-df-convert:hover {\n",
              "      background-color: #E2EBFA;\n",
              "      box-shadow: 0px 1px 2px rgba(60, 64, 67, 0.3), 0px 1px 3px 1px rgba(60, 64, 67, 0.15);\n",
              "      fill: #174EA6;\n",
              "    }\n",
              "\n",
              "    [theme=dark] .colab-df-convert {\n",
              "      background-color: #3B4455;\n",
              "      fill: #D2E3FC;\n",
              "    }\n",
              "\n",
              "    [theme=dark] .colab-df-convert:hover {\n",
              "      background-color: #434B5C;\n",
              "      box-shadow: 0px 1px 3px 1px rgba(0, 0, 0, 0.15);\n",
              "      filter: drop-shadow(0px 1px 2px rgba(0, 0, 0, 0.3));\n",
              "      fill: #FFFFFF;\n",
              "    }\n",
              "  </style>\n",
              "\n",
              "      <script>\n",
              "        const buttonEl =\n",
              "          document.querySelector('#df-9f8016b4-2c3d-4cd4-895c-5118bf29f9cf button.colab-df-convert');\n",
              "        buttonEl.style.display =\n",
              "          google.colab.kernel.accessAllowed ? 'block' : 'none';\n",
              "\n",
              "        async function convertToInteractive(key) {\n",
              "          const element = document.querySelector('#df-9f8016b4-2c3d-4cd4-895c-5118bf29f9cf');\n",
              "          const dataTable =\n",
              "            await google.colab.kernel.invokeFunction('convertToInteractive',\n",
              "                                                     [key], {});\n",
              "          if (!dataTable) return;\n",
              "\n",
              "          const docLinkHtml = 'Like what you see? Visit the ' +\n",
              "            '<a target=\"_blank\" href=https://colab.research.google.com/notebooks/data_table.ipynb>data table notebook</a>'\n",
              "            + ' to learn more about interactive tables.';\n",
              "          element.innerHTML = '';\n",
              "          dataTable['output_type'] = 'display_data';\n",
              "          await google.colab.output.renderOutput(dataTable, element);\n",
              "          const docLink = document.createElement('div');\n",
              "          docLink.innerHTML = docLinkHtml;\n",
              "          element.appendChild(docLink);\n",
              "        }\n",
              "      </script>\n",
              "    </div>\n",
              "  </div>\n",
              "  "
            ]
          },
          "metadata": {},
          "execution_count": 17
        }
      ]
    },
    {
      "cell_type": "code",
      "source": [
        "data = np.array(data)"
      ],
      "metadata": {
        "id": "0_u7asm9bhFZ"
      },
      "execution_count": 18,
      "outputs": []
    },
    {
      "cell_type": "code",
      "source": [
        "data.shape"
      ],
      "metadata": {
        "colab": {
          "base_uri": "https://localhost:8080/"
        },
        "id": "i3_Ss_lebin2",
        "outputId": "4a860acb-3542-492e-facf-b9615dc1a240"
      },
      "execution_count": 19,
      "outputs": [
        {
          "output_type": "execute_result",
          "data": {
            "text/plain": [
              "(14, 6)"
            ]
          },
          "metadata": {},
          "execution_count": 19
        }
      ]
    },
    {
      "cell_type": "code",
      "source": [
        "car = data[:1]"
      ],
      "metadata": {
        "id": "KH5acIzPbnSv"
      },
      "execution_count": 20,
      "outputs": []
    },
    {
      "cell_type": "code",
      "source": [
        "car"
      ],
      "metadata": {
        "colab": {
          "base_uri": "https://localhost:8080/"
        },
        "id": "EeogcBhqbwae",
        "outputId": "b35b02a8-28c6-494c-b02c-c5cfcff0ccb4"
      },
      "execution_count": 21,
      "outputs": [
        {
          "output_type": "execute_result",
          "data": {
            "text/plain": [
              "array([['10/10/2022 12:36:23', 'Yes', 'Yes', 'Yes', 'Yes', '$1.99']],\n",
              "      dtype=object)"
            ]
          },
          "metadata": {},
          "execution_count": 21
        }
      ]
    },
    {
      "cell_type": "code",
      "source": [],
      "metadata": {
        "id": "hbkob0d7bxNW"
      },
      "execution_count": null,
      "outputs": []
    }
  ]
}